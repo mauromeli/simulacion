{
 "cells": [
  {
   "cell_type": "code",
   "execution_count": 21,
   "metadata": {},
   "outputs": [
    {
     "data": {
      "image/png": "[encoded data removed]",
      "text/plain": [
       "<Figure size 432x288 with 1 Axes>"
      ]
     },
     "metadata": {},
     "output_type": "display_data"
    }
   ],
   "source": [
    "\n",
    "\n",
    "import matplotlib.pyplot as plt\n",
    "import random\n",
    "import matplotlib.animation as animation \n",
    "import numpy as np \n",
    "\n",
    "MAX_FRAMES = 5\n",
    "movements = { 'right': 0, 'left': 0, 'up': 0, 'down': 0 }\n",
    "\n",
    "def init(): \n",
    "    line.set_data([], []) \n",
    "    return line, \n",
    "\n",
    "def make_path(max_frames):\n",
    "    for i in range(0, max_frames - 1):\n",
    "        step = []\n",
    "        random_value = random.uniform(0,1)\n",
    "\n",
    "        if random_value < 0.25:\n",
    "            step = [1, 0]\n",
    "            movements['right']+=1\n",
    "        elif random_value < 0.5:\n",
    "            step = [0, -1]\n",
    "            movements['down']+=1            \n",
    "        elif random_value < 0.75:\n",
    "            step = [-1, 0]\n",
    "            movements['left']+=1\n",
    "        else:\n",
    "            step = [0, 1]\n",
    "            movements['up']+=1\n",
    "\n",
    "        x_data.append(x_data[i] + step[0])\n",
    "        y_data.append(y_data[i] + step[1])\n",
    "\n",
    "def animate(i): \n",
    "    line.set_data(x_data[:i], y_data[:i]) \n",
    "    return line, \n",
    "\n",
    "x_data, y_data = [0], [0]\n",
    "plt.style.use('dark_background')\n",
    "\n",
    "\n",
    "make_path(MAX_FRAMES)\n",
    "fig = plt.figure()\n",
    "ax = plt.axes(xlim=(min(x_data) - 5, max(x_data) + 5), ylim=(min(y_data) - 5, max(y_data) + 5))\n",
    "line, = ax.plot([], [],'-', lw=0.8)\n",
    "\n",
    "plt.title('Camino de la partícula') \n",
    "plt.axis('on') \n",
    "\n",
    "anim = animation.FuncAnimation(fig, animate, init_func=init,interval=100, frames=MAX_FRAMES, blit=True) \n",
    "\n",
    "anim.save('path2.gif',writer='imagemagick') \n"
   ]
  },
  {
   "cell_type": "code",
   "execution_count": null,
   "metadata": {},
   "outputs": [],
   "source": []
  },
  {
   "cell_type": "code",
   "execution_count": null,
   "metadata": {},
   "outputs": [],
   "source": []
  },
  {
   "cell_type": "code",
   "execution_count": null,
   "metadata": {},
   "outputs": [],
   "source": []
  }
 ],
 "metadata": {
  "kernelspec": {
   "display_name": "Python 3",
   "language": "python",
   "name": "python3"
  },
  "language_info": {
   "codemirror_mode": {
    "name": "ipython",
    "version": 3
   },
   "file_extension": ".py",
   "mimetype": "text/x-python",
   "name": "python",
   "nbconvert_exporter": "python",
   "pygments_lexer": "ipython3",
   "version": "3.7.4"
  }
 },
 "nbformat": 4,
 "nbformat_minor": 4
}
