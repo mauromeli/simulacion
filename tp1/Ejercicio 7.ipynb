{
 "cells": [
  {
   "cell_type": "markdown",
   "metadata": {},
   "source": [
    "# Ejercicio 7\n",
    "---\n",
    "Aplicar el test de Kolmogorov-Smirnov al generador de números al azar generado en el ejercicio 4.\\\n",
    "Analizar el resultado del mismo, e indicar si la distribución puede o no ser aceptada.\\\n",
    "Considerar un nivel de significación del 1%."
   ]
  },
  {
   "cell_type": "code",
   "execution_count": 20,
   "metadata": {},
   "outputs": [],
   "source": [
    "import numpy as np\n",
    "import matplotlib.pyplot as plt\n",
    "import scipy.stats as st\n",
    "from math import sqrt, exp, pi, log"
   ]
  },
  {
   "cell_type": "code",
   "execution_count": 21,
   "metadata": {},
   "outputs": [],
   "source": [
    "# Replico el ejercicio 4.\n",
    "cantidad = 100000\n",
    "cota = sqrt(2*exp(1)/pi)\n",
    "numerosEstandarSimulados = list()\n",
    "numerosDistribucionReal = list()\n",
    "\n",
    "def X(x):\n",
    "    return st.norm.pdf(x, loc = 0, scale = 1)\n",
    "\n",
    "def Y(x):\n",
    "    return exp(-x)\n",
    "\n",
    "def probabilidad(x):\n",
    "    return X(x) / (Y(x) * cota)\n",
    "\n",
    "aceptados = 0\n",
    "\n",
    "while aceptados < cantidad:\n",
    "    xi = np.random.exponential(1)\n",
    "    ui = np.random.uniform()\n",
    "    \n",
    "    if (ui < probabilidad(xi)):\n",
    "        aceptados += 1\n",
    "        numerosDistribucionReal.append(np.random.normal(25, 2))\n",
    "        \n",
    "        if(np.random.rand() < 0.5):\n",
    "            numerosEstandarSimulados.append(xi)\n",
    "        else:\n",
    "            numerosEstandarSimulados.append(-xi)\n",
    "            \n",
    "numerosSimulados = [ numero * 2 + 25 for numero in numerosEstandarSimulados ]"
   ]
  },
  {
   "cell_type": "code",
   "execution_count": 22,
   "metadata": {},
   "outputs": [],
   "source": [
    "significancia = 0.01\n",
    "c = sqrt((-1/(2*cantidad))*log(significancia/2))\n",
    "\n",
    "def funcionAcumulativaTeorica(x):\n",
    "    return st.norm(25, 2).cdf(x)\n",
    "\n",
    "numerosSimulados.sort()\n",
    "\n",
    "q = 0\n",
    "\n",
    "for i in range(cantidad):\n",
    "    xi = numerosSimulados[i]\n",
    "    acumulativaSimuladai = (i + 1) / cantidad\n",
    "    acumulativaTeóricai = funcionAcumulativaTeorica(xi)\n",
    "    ki = abs(acumulativaTeóricai - acumulativaSimuladai)\n",
    "    \n",
    "    if ki > q:\n",
    "        q = ki"
   ]
  },
  {
   "cell_type": "code",
   "execution_count": 23,
   "metadata": {},
   "outputs": [
    {
     "name": "stdout",
     "output_type": "stream",
     "text": [
      "0.002519872448388666\n",
      "0.005146997846583986\n"
     ]
    }
   ],
   "source": [
    "print(q)\n",
    "print(c)"
   ]
  },
  {
   "cell_type": "code",
   "execution_count": null,
   "metadata": {},
   "outputs": [],
   "source": []
  }
 ],
 "metadata": {
  "kernelspec": {
   "display_name": "Python 3",
   "language": "python",
   "name": "python3"
  },
  "language_info": {
   "codemirror_mode": {
    "name": "ipython",
    "version": 3
   },
   "file_extension": ".py",
   "mimetype": "text/x-python",
   "name": "python",
   "nbconvert_exporter": "python",
   "pygments_lexer": "ipython3",
   "version": "3.7.6"
  }
 },
 "nbformat": 4,
 "nbformat_minor": 4
}
