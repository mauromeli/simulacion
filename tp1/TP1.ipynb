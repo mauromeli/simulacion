{
 "cells": [
  {
   "cell_type": "code",
   "execution_count": 3,
   "metadata": {},
   "outputs": [],
   "source": [
    "import matplotlib.pyplot as plt\n",
    "import pandas as pd\n",
    "import numpy as np\n",
    "\n",
    "from math import log, sqrt, exp, pi, cos\n",
    "from scipy import stats as st\n",
    "import seaborn as sns\n",
    "sns.set(color_codes=True)\n",
    "\n",
    "sns.set_palette(sns.color_palette(\"Set2\"))\n",
    "sns.set(rc={'figure.figsize':(10,8)}, style=\"white\", color_codes=True)\n",
    "\n",
    "\n",
    "import warnings\n",
    "warnings.filterwarnings(\"ignore\")"
   ]
  },
  {
   "cell_type": "markdown",
   "metadata": {},
   "source": [
    "<h2 style=\"text-align: center; font-size: 30px; text-align: center; margin-bottom: 40px;\">Trabajo Práctico 1</h2>\n",
    "\n",
    "<div style=\"border: 1px solid #d2d2d2; border-top: none; border-radius: 8px; margin-bottom: 40px;\">\n",
    "    <h2 style=\"text-align: center; font-weight: bold; font-size: 20px; padding: 10px 20px; background-color: #38a2ad; color: #fff; border-radius: 4px; margin-bottom: 20px; margin-top: 0; border-bottom-left-radius: 0;  border-bottom-right-radius: 0;\">Alumnos</h2>\n",
    "    <div style=\"width: 450px; margin: 0 auto 30px;\">\n",
    "        <div style=\"overflow: hidden; border-bottom: 1px solid #d2d2d2;\">\n",
    "            <div style=\"float: left; width: 300px; padding-left: 8px;\">\n",
    "                <p style=\"font-family: 'Open Sans', sans-serif; font-size: 18px; font-weight: bold; color: #363636; line-height: 40px;\">Nombre y Apellido</p>\n",
    "            </div>\n",
    "            <div style=\"float: left; width: 150px;\">\n",
    "                <p style=\"font-family: 'Open Sans', sans-serif; font-size: 18px; font-weight: bold; color: #363636; line-height: 40px;\">Padrón</p>\n",
    "            </div>\n",
    "        </div>\n",
    "        <div style=\"overflow: hidden; border-bottom: 1px solid #d2d2d2; background-color: #f4f4f4;\">\n",
    "            <div style=\"float: left; width: 300px; padding-left: 8px;\">\n",
    "                <p style=\"font-family: 'Open Sans', sans-serif; font-size: 16px; color: #363636; line-height: 40px;\">Gaston Montes</p>\n",
    "            </div>\n",
    "            <div style=\"float: left; width: 150px;\">\n",
    "                <p style=\"font-family: 'Open Sans', sans-serif; font-size: 16px; color: #363636; line-height: 40px;\">89397</p>\n",
    "            </div>\n",
    "        </div>\n",
    "         <div style=\"overflow: hidden; border-bottom: 1px solid #d2d2d2; background-color: #f4f4f4;\">\n",
    "            <div style=\"float: left; width: 300px; padding-left: 8px;\">\n",
    "                <p style=\"font-family: 'Open Sans', sans-serif; font-size: 16px; color: #363636; line-height: 40px;\">Lucas Risaro</p>\n",
    "            </div>\n",
    "            <div style=\"float: left; width: 150px;\">\n",
    "                <p style=\"font-family: 'Open Sans', sans-serif; font-size: 16px; color: #363636; line-height: 40px;\">94335</p>\n",
    "            </div>\n",
    "        </div>\n",
    "         <div style=\"overflow: hidden; border-bottom: 1px solid #d2d2d2; background-color: #f4f4f4;\">\n",
    "            <div style=\"float: left; width: 300px; padding-left: 8px;\">\n",
    "                <p style=\"font-family: 'Open Sans', sans-serif; font-size: 16px; color: #363636; line-height: 40px;\">Alcala Santiago</p>\n",
    "            </div>\n",
    "            <div style=\"float: left; width: 150px;\">\n",
    "                <p style=\"font-family: 'Open Sans', sans-serif; font-size: 16px; color: #363636; line-height: 40px;\">95172</p>\n",
    "            </div>\n",
    "        </div>\n",
    "        <div style=\"overflow: hidden; border-bottom: 1px solid #d2d2d2; background-color: #f4f4f4;\">\n",
    "            <div style=\"float: left; width: 300px; padding-left: 8px;\">\n",
    "                <p style=\"font-family: 'Open Sans', sans-serif; font-size: 16px; color: #363636; line-height: 40px;\">Mauro Di Pietro</p>\n",
    "            </div>\n",
    "            <div style=\"float: left; width: 150px;\">\n",
    "                <p style=\"font-family: 'Open Sans', sans-serif; font-size: 16px; color: #363636; line-height: 40px;\">93695</p>\n",
    "            </div>\n",
    "        </div>\n",
    "    </div>\n",
    "</div>\n",
    "\n",
    "<h2 style=\"text-align: center; font-weight: bold; font-size: 20px; padding: 10px 20px; background-color: #db2e2e; color: #fff; border-radius: 4px; margin-bottom: 30px;\">Grupo</h2>"
   ]
  },
  {
   "cell_type": "markdown",
   "metadata": {},
   "source": [
    "### Ejercicio 1\n",
    "Utilizando  Matlab, Octaveo  Python implementar  un  Generador  Congruencial  Lineal  (GCL)  de  módulo $2^{32}$, multiplicador 1013904223,  incremento  de 1664525 y  semilla igual  a  la  parte  entera  del  promedio de  los  números de  padrón  de  los integrantes del grupo.\n",
    "* Informar los primeros 10 números al azar de la secuencia.\n",
    "* Modificar el GCL para que devuelva números al azar entre 0 y 1\n",
    "* Realizar un histograma mostrando 100.000 valores generados en el punto b.\n",
    "\n",
    "---\n",
    "\n",
    "**Método Lineal Congruente [Lehmer, 1949] **\n",
    "\n",
    "$U(n) = (Ua(n-1) + c)\\mod m, \\quad n\\geq 0$\n",
    "\n",
    "$m, \\quad \\text {el modulo};\\quad 0<m$\n",
    "\n",
    "$a,\\quad \\text{el multiplicador};\\quad 0\\geq a < m$\n",
    "\n",
    "$c, \\quad \\text{el incremento}; \\quad 0\\geq c < m$\n",
    "\n",
    "$U_{0}, \\quad \\text{la semilla, o valor inicial};\\quad 0\\leq U_{0}< m$\n",
    "\n",
    "Para generar números al azar entre 0 y 1, dividimos los valores obtenidos con el GCL por $m$"
   ]
  },
  {
   "cell_type": "code",
   "execution_count": 1,
   "metadata": {},
   "outputs": [
    {
     "name": "stdout",
     "output_type": "stream",
     "text": [
      "2356271436\n",
      "1581526337\n",
      "1615389740\n",
      "1185142369\n",
      "2500986636\n",
      "1168271233\n",
      "3037413868\n",
      "2185355425\n",
      "535991500\n",
      "3724820929\n"
     ]
    }
   ],
   "source": [
    "m = 2**32 \n",
    "a = 1013904223\n",
    "c = 1664525\n",
    "U0 = int((94335 + 89397 + 95172 + 93965)/4)\n",
    "\n",
    "numsGen = {}\n",
    "numsGen[0] = U0\n",
    "\n",
    "def U(n):\n",
    "    if (n in numsGen) :\n",
    "        return numsGen[n]\n",
    "    else:\n",
    "        numsGen[n] = (a*U(n-1) + c) % m\n",
    "        return numsGen[n]\n",
    "\n",
    "# Primeros 10 Números Aleatorios\n",
    "for i in range(1,11):\n",
    "    print(U(i))"
   ]
  },
  {
   "cell_type": "code",
   "execution_count": 2,
   "metadata": {},
   "outputs": [],
   "source": [
    "#100.000 valores random generados entre 0 y 1\n",
    "randomNums1 = list()\n",
    "for i in range(0,100000):\n",
    "    x = U(i+1)\n",
    "    randomNums1.insert(i,x/m)"
   ]
  },
  {
   "cell_type": "code",
   "execution_count": 6,
   "metadata": {},
   "outputs": [
    {
     "data": {
      "image/png": "[encoded data removed]",
      "text/plain": [
       "<Figure size 432x288 with 1 Axes>"
      ]
     },
     "metadata": {
      "needs_background": "light"
     },
     "output_type": "display_data"
    }
   ],
   "source": [
    "#Histograma de los 100 valores generados anteriormente\n",
    "plt.xlabel('Números observados')\n",
    "plt.ylabel('Cantidad de apariciones')\n",
    "plt.title('Histograma')\n",
    "\n",
    "sns.distplot(randomNums1,  kde=False,  hist_kws={'edgecolor':'black', 'alpha':1})\n",
    "sns.set(style=\"white\", context=\"talk\")"
   ]
  },
  {
   "cell_type": "markdown",
   "metadata": {},
   "source": [
    "### Ejercicio 2\n",
    "Utilizar el generador de números al azar implementado en el ejercicio 1 para simular el lanzamiento de 2 dados, luego de lo\n",
    "cual se realiza la suma de los valores obtenidos en cada uno.\n",
    "* Defina el espacio muestral del experimento\n",
    "* Genere 10000 pares de lanzamientos\n",
    "* Realice un histograma con las frecuencias obtenidas para cada uno de los valores posibles\n"
   ]
  },
  {
   "cell_type": "code",
   "execution_count": 97,
   "metadata": {},
   "outputs": [],
   "source": [
    "import random"
   ]
  },
  {
   "cell_type": "code",
   "execution_count": 107,
   "metadata": {},
   "outputs": [
    {
     "name": "stdout",
     "output_type": "stream",
     "text": [
      "Espacio Muestral Suma valores de los Dados:  [2, 3, 4, 5, 6, 7, 8, 9, 10, 11, 12]\n"
     ]
    }
   ],
   "source": [
    "print(\"Espacio Muestral Suma valores de los Dados: \", [2,3,4,5,6,7,8,9,10,11,12])"
   ]
  },
  {
   "cell_type": "code",
   "execution_count": 98,
   "metadata": {},
   "outputs": [],
   "source": [
    "def dado(numero):\n",
    "    if(numero < 1/6) : return 1\n",
    "    if(numero < 2/6) : return 2\n",
    "    if(numero < 3/6) : return 3\n",
    "    if(numero < 4/6) : return 4\n",
    "    if(numero < 5/6) : return 5\n",
    "    return 6"
   ]
  },
  {
   "cell_type": "code",
   "execution_count": 100,
   "metadata": {},
   "outputs": [],
   "source": [
    "import random\n",
    "#10.000 valores random generados entre 0 y 1\n",
    "listado_dado1 = []\n",
    "listado_dado2 = []\n",
    "for i in range(0,10000):\n",
    "    dado1 = U(random.randrange(10000))\n",
    "    dado2 = U(random.randrange(10000))\n",
    "\n",
    "    listado_dado1.insert(i,dado(dado1/m))\n",
    "    listado_dado2.insert(i,dado(dado2/m))"
   ]
  },
  {
   "cell_type": "code",
   "execution_count": 115,
   "metadata": {},
   "outputs": [
    {
     "data": {
      "image/png": "[encoded data removed]",
      "text/plain": [
       "<Figure size 432x288 with 1 Axes>"
      ]
     },
     "metadata": {},
     "output_type": "display_data"
    }
   ],
   "source": [
    "sumatoria = []\n",
    "for i in range (0,10000):\n",
    "    sumatoria.append(listado_dado1[i] + listado_dado2[i])\n",
    "    \n",
    "\n",
    "fig, ax = plt.subplots()\n",
    "sns.distplot(sumatoria,    kde=False,  hist_kws={'edgecolor':'black', 'alpha':1}, ax=ax, norm_hist=True) \n",
    "sns.set(style=\"white\", context=\"talk\")\n",
    "plt.xlabel('Valores observados')\n",
    "ax.set_xticks(range(2,13))\n",
    "plt.show()"
   ]
  },
  {
   "cell_type": "markdown",
   "metadata": {},
   "source": [
    "### Ejercicio 6\n",
    "Realizar  un  test  $Chi^{2}$ a la  distribución  empírica  implementada  en  el  Ej  2, y  analizar  el  resultado  indicando  si  la  distribución puede o no ser aceptada. \n",
    "* Considerar un nivel de significación del 1%. \n",
    "* Determine qué nivel de significación cambiaría el resultado de la prueba de hipótesis."
   ]
  },
  {
   "cell_type": "markdown",
   "metadata": {},
   "source": [
    "---\n",
    "El **Test Estadístico $Chi^{2}$** se aplica cuando tenemos una muestra de una **variable aleatoria discreta finita** y queremos evaluar si responde a una determinada distribución de probabilidad teórica.\n",
    "\n",
    "En este caso vamos a ver si la muestra que se generó en el ejercicio 6, responde a una **distribución geométrica** .\n",
    "\n",
    "Primero se debe medir la dispersión de las ocurrencias observadas $N_{i}$ respecto de las esperadas ( $np_{i}$ ):\n",
    "\n",
    "<h3 align=\"center\">$\n",
    "D^{2} = \\sum_{k=1}^{K-1}\\frac {(N_{i} - np_{i})^{2}}{np_{i}}\n",
    "$</h3> \n",
    "\n",
    "**Pearson** (1900) demostró que $D^{2}$ responde a una distribución de tipo $Chi^{2}$, por lo tanto, encontramos $\\textbf{t}$ tal que  $P(D^{2} > t) = \\alpha$  y aceptamos la hipótesis siempre que $D^{2} < t$."
   ]
  },
  {
   "cell_type": "code",
   "execution_count": 116,
   "metadata": {},
   "outputs": [],
   "source": [
    "probabilidades = {\n",
    "    2 : 1/36,\n",
    "    3 : 2/36,\n",
    "    4 : 3/36,\n",
    "    5 : 4/36,\n",
    "    6 : 5/36,\n",
    "    7 : 6/36,\n",
    "    8 : 5/36,\n",
    "    9 : 4/36,\n",
    "    10 : 3/36,\n",
    "    11 : 2/36,\n",
    "    12 : 1/36\n",
    "}"
   ]
  },
  {
   "cell_type": "code",
   "execution_count": 123,
   "metadata": {},
   "outputs": [],
   "source": [
    "cantidades_esperadas = {}\n",
    "for i in range (2,13):\n",
    "    cantidades_esperadas[i] = probabilidades[i] * 10000"
   ]
  },
  {
   "cell_type": "code",
   "execution_count": 124,
   "metadata": {},
   "outputs": [
    {
     "data": {
      "text/plain": [
       "{2: 277.77777777777777,\n",
       " 3: 555.5555555555555,\n",
       " 4: 833.3333333333333,\n",
       " 5: 1111.111111111111,\n",
       " 6: 1388.888888888889,\n",
       " 7: 1666.6666666666665,\n",
       " 8: 1388.888888888889,\n",
       " 9: 1111.111111111111,\n",
       " 10: 833.3333333333333,\n",
       " 11: 555.5555555555555,\n",
       " 12: 277.77777777777777}"
      ]
     },
     "execution_count": 124,
     "metadata": {},
     "output_type": "execute_result"
    }
   ],
   "source": [
    "cantidades_esperadas"
   ]
  },
  {
   "cell_type": "code",
   "execution_count": 127,
   "metadata": {},
   "outputs": [],
   "source": [
    "obtenidos = {\n",
    "    2 : 0,\n",
    "    3 : 0,\n",
    "    4 : 0,\n",
    "    5 : 0,\n",
    "    6 : 0,\n",
    "    7 : 0,\n",
    "    8 : 0,\n",
    "    9 : 0,\n",
    "    10 : 0,\n",
    "    11 : 0,\n",
    "    12 : 0,\n",
    "}\n",
    "\n",
    "for elemento in sumatoria:\n",
    "    obtenidos[elemento] += 1"
   ]
  },
  {
   "cell_type": "code",
   "execution_count": 128,
   "metadata": {},
   "outputs": [
    {
     "data": {
      "text/plain": [
       "{2: 265,\n",
       " 3: 549,\n",
       " 4: 868,\n",
       " 5: 1121,\n",
       " 6: 1394,\n",
       " 7: 1674,\n",
       " 8: 1441,\n",
       " 9: 1058,\n",
       " 10: 822,\n",
       " 11: 555,\n",
       " 12: 253}"
      ]
     },
     "execution_count": 128,
     "metadata": {},
     "output_type": "execute_result"
    }
   ],
   "source": [
    "obtenidos"
   ]
  },
  {
   "cell_type": "code",
   "execution_count": 129,
   "metadata": {},
   "outputs": [],
   "source": [
    "d2 = 0\n",
    "n = 10000\n",
    "\n",
    "for i in range(2,13):\n",
    "    d2 += ((obtenidos[i] - cantidades_esperadas[i])**2) / cantidades_esperadas[i]"
   ]
  },
  {
   "cell_type": "code",
   "execution_count": 175,
   "metadata": {},
   "outputs": [
    {
     "name": "stdout",
     "output_type": "stream",
     "text": [
      "Estadistico: 9.11 \n",
      "El test acepta la hipotesis nula.\n"
     ]
    }
   ],
   "source": [
    "from scipy.stats import chi2\n",
    "limiteSuperior = chi2.ppf(0.99, df=10)\n",
    "print(\"Estadistico: {:.2f} \".format(d2))\n",
    "if d2 <= limiteSuperior:\n",
    "     print(\"El test acepta la hipotesis nula.\")\n",
    "else:\n",
    "     print(\"El test rechaza la hipótesis nula\")"
   ]
  },
  {
   "cell_type": "code",
   "execution_count": 176,
   "metadata": {},
   "outputs": [
    {
     "name": "stdout",
     "output_type": "stream",
     "text": [
      "Valor p: 0.5221553735156393\n"
     ]
    }
   ],
   "source": [
    "print(\"Valor p: {}\".format(1-chi2.cdf(d2, df=10)))"
   ]
  },
  {
   "cell_type": "code",
   "execution_count": 185,
   "metadata": {},
   "outputs": [
    {
     "name": "stdout",
     "output_type": "stream",
     "text": [
      "Estadistico: 9.11 \n",
      "El test rechaza la hipótesis nula\n"
     ]
    }
   ],
   "source": [
    "limiteSuperior = chi2.ppf(0.47, df=10)\n",
    "print(\"Estadistico: {:.2f} \".format(d2))\n",
    "if d2 <= limiteSuperior:\n",
    "     print(\"El test acepta la hipotesis nula.\")\n",
    "else:\n",
    "     print(\"El test rechaza la hipótesis nula\")"
   ]
  },
  {
   "cell_type": "markdown",
   "metadata": {},
   "source": [
    "Conclusión: Solo realizaríamos para valores mayores a este p valor: 0.5221553735156393. De todas maneras entendemos que no se utiliza valores mayores a este."
   ]
  }
 ],
 "metadata": {
  "kernelspec": {
   "display_name": "Python 3",
   "language": "python",
   "name": "python3"
  },
  "language_info": {
   "codemirror_mode": {
    "name": "ipython",
    "version": 3
   },
   "file_extension": ".py",
   "mimetype": "text/x-python",
   "name": "python",
   "nbconvert_exporter": "python",
   "pygments_lexer": "ipython3",
   "version": "3.8.3"
  }
 },
 "nbformat": 4,
 "nbformat_minor": 2
}
