{
 "cells": [
  {
   "cell_type": "code",
   "execution_count": 3,
   "metadata": {},
   "outputs": [],
   "source": [
    "import matplotlib.pyplot as plt\n",
    "import pandas as pd\n",
    "import numpy as np\n",
    "\n",
    "from math import log, sqrt, exp, pi, cos\n",
    "from scipy import stats as st\n",
    "import seaborn as sns\n",
    "sns.set(color_codes=True)\n",
    "\n",
    "sns.set_palette(sns.color_palette(\"Set2\"))\n",
    "sns.set(rc={'figure.figsize':(10,8)}, style=\"white\", color_codes=True)\n",
    "\n",
    "\n",
    "import warnings\n",
    "warnings.filterwarnings(\"ignore\")"
   ]
  },
  {
   "cell_type": "code",
   "execution_count": 4,
   "metadata": {},
   "outputs": [
    {
     "name": "stdout",
     "output_type": "stream",
     "text": [
      "2356271436\n",
      "1581526337\n",
      "1615389740\n",
      "1185142369\n",
      "2500986636\n",
      "1168271233\n",
      "3037413868\n",
      "2185355425\n",
      "535991500\n",
      "3724820929\n"
     ]
    }
   ],
   "source": [
    "m = 2**32 \n",
    "a = 1013904223\n",
    "c = 1664525\n",
    "U0 = int((94335 + 89397 + 95172 + 93965)/4)\n",
    "\n",
    "numsGen = {}\n",
    "numsGen[0] = U0\n",
    "\n",
    "def UGen(n):\n",
    "    if (n in numsGen) :\n",
    "        return numsGen[n]\n",
    "    else:\n",
    "        numsGen[n] = (a*UGen(n-1) + c) % m\n",
    "        return numsGen[n]\n",
    "\n",
    "# Primeros 10 Números Aleatorios\n",
    "for i in range(1,11):\n",
    "    print(UGen(i))"
   ]
  },
  {
   "cell_type": "markdown",
   "metadata": {},
   "source": [
    "### Ejercicio 5\n",
    "Aplicar un gap test al generador congruencial lineal implementado en el ejercicio 1 utilizando el intervalo [0,2 -0,5]. Analizar el resultado obtenido, e indicar si la distribución de probabilidades pasa o no el test. Considerar un nivel de significación del 1%. \n",
    "\n",
    "---\n",
    "\n",
    "**Gap Test**: Siendo $U_{i}$ un número aleatorio con **distribución uniforme** en un rango $[0,1]$ y $0 \\leq \\alpha < \\beta \\leq 1$. Este test consiste en contar la cantidad de números aleatorios generados de forma consecutiva entre la generación de un número que pertenece al intervalo $[\\alpha, \\beta]$ y el próximo número generado que vuelve a pertenecer al intervalo.\n",
    "\n",
    "Entendemos como gap al espacio entre dos apariciones consecutivas de números pertenecientes al intervalo $[\\alpha, \\beta]$.\n",
    "\n",
    "La probabilidad teórica de apariciones de tamaño de gaps es:\n",
    "\n",
    "$P(tamanioDeGap = 0) = p = \\beta - \\alpha $ \n",
    "\n",
    "$P(tamanioDeGap = 1) = p(1-p)$\n",
    "\n",
    "$...$\n",
    "\n",
    "$P(tamanioDeGap = t) = p(1-p)ˆt$\n",
    "\n",
    "La distribución de frecuencia teórica es:\n",
    "\n",
    "$ P(tamanioDeGap \\leq t) = F(t) = p\\sum_{n=1}^{t} (1-p)^{n} = 1-(1-p)^{t+1}$\n",
    "\n",
    "\n",
    "---\n",
    "Tomamos:\n",
    "\n",
    "$\\alpha=0.2,\\qquad  \\beta=0.5$\n",
    "\n",
    "y queremos analizar un total de 100 gaps."
   ]
  },
  {
   "cell_type": "code",
   "execution_count": 5,
   "metadata": {},
   "outputs": [
    {
     "name": "stdout",
     "output_type": "stream",
     "text": [
      "Gaps encontrados: 100\n",
      "Tamaños de gaps encontrados: 11\n",
      "[ 0  1  2  3  4  5  6  8  9 10 11]\n",
      "Frecuencia: \n",
      "[35 19 17  6  4  9  1  2  2  2  3]\n"
     ]
    }
   ],
   "source": [
    "def perteneceAlIntervalo(num, alfa, beta):\n",
    "    return (num>=alfa and num<=beta)\n",
    "\n",
    "def buscarGaps(n, alfa, beta):\n",
    "    tamanioGaps = 0\n",
    "    gaps = list()\n",
    "    i = 0\n",
    "\n",
    "    while (len(gaps) <= n):\n",
    "        \n",
    "        number = UGen(i) / m\n",
    "        \n",
    "        if (not perteneceAlIntervalo(number, alfa, beta)):\n",
    "            tamanioGaps += 1\n",
    "\n",
    "        if (perteneceAlIntervalo(number, alfa, beta)):\n",
    "            gaps.append(tamanioGaps)\n",
    "            tamanioGaps = 0\n",
    "\n",
    "        i += 1\n",
    "\n",
    "    gaps = gaps[1:] \n",
    "    return gaps\n",
    "\n",
    "gaps = buscarGaps(100, 0.2, 0.5)\n",
    "tamanioGaps, frecuencia = np.unique(gaps, return_counts = True)\n",
    "\n",
    "print(\"Gaps encontrados: \" +  str(len(gaps)))\n",
    "print(\"Tamaños de gaps encontrados: \"+ str(len(tamanioGaps)))\n",
    "print(tamanioGaps)\n",
    "print(\"Frecuencia: \")\n",
    "print(frecuencia)\n"
   ]
  },
  {
   "cell_type": "markdown",
   "metadata": {},
   "source": [
    "Para 100 gaps encontrados:\n",
    "\n",
    "| Tamaño de gap | Apariciones  | Probabilidad Obtenida | Probabilidad Teórica |\n",
    "\n",
    "| 0 | 35| 0.35|0.3  |\n",
    "\n",
    "| 1 | 29| 0.19|0.21 |\n",
    "\n",
    "| 2 | 14| 0.17|0.147|\n",
    "\n",
    "| 3 | 6 | 0.06|0.103|\n",
    "\n",
    "| 4 | 4 | 0.04|0.072|\n",
    "\n",
    "| 5 | 9 | 0.09|0.050|\n",
    "\n",
    "| 6 | 1 | 0.01|0.035|\n",
    "\n",
    "| 8 | 2 | 0.02|0.017|\n",
    "\n",
    "| 9 | 2 | 0.02|0.012|\n",
    "\n",
    "| 10| 2 | 0.02|0.008|\n",
    "\n",
    "| 11| 3 | 0.03|0.006|\n",
    "\n",
    "Ahora realizamos el **Test Estadístico $Chi^{2}$** para los datos obtenidos en el gap test:\n",
    "\n",
    "Primero medimos la dispersión de las ocurrencias observadas $N_{i}$ respecto de las esperadas ( $np_{i}$ ):\n",
    "\n",
    "<h3 align=\"center\">$\n",
    "D^{2} = \\sum_{k=1}^{K-1}\\frac {(N_{i} - np_{i})^{2}}{np_{i}}\n",
    "$</h3> "
   ]
  },
  {
   "cell_type": "code",
   "execution_count": 6,
   "metadata": {},
   "outputs": [
    {
     "name": "stdout",
     "output_type": "stream",
     "text": [
      "D2 = 21.573030118196144\n"
     ]
    }
   ],
   "source": [
    "d2 = 0\n",
    "tamanioFrecuencia = dict(zip(tamanioGaps, frecuencia)) \n",
    "pi = {0 : 0.3,\n",
    "      1 : 0.21,\n",
    "      2 : 0.147,\n",
    "      3 : 0.103,\n",
    "      4 : 0.072,\n",
    "      5 : 0.050,\n",
    "      6 : 0.035,\n",
    "      8 : 0.017,\n",
    "      9 : 0.012,\n",
    "      10 : 0.008,\n",
    "      11 : 0.006}\n",
    "n = 100\n",
    "\n",
    "for key in tamanioFrecuencia:\n",
    "    d2 += ((tamanioFrecuencia[key] - n*(pi[key]))**2)/(n*(pi[key]))\n",
    "\n",
    "print('D2 = ' + str(d2))"
   ]
  },
  {
   "cell_type": "markdown",
   "metadata": {},
   "source": [
    "Encontramos que nuestro $D^{2} = 21.573030118196144$  .\n",
    "\n",
    "Con un nivel de significación del $1\\%$, $\\alpha = 0.01$, y una cantidad de diferentes valores k, $k=11$, buscamos en la tabla $Chi^{2}$ guiándonos por  $\\alpha = 0.01$ y grados de libertad  $v = k-1 = 10 $,  tenemos  $t = 2,5$.\n",
    "\n",
    "Como $D^{2} > t$, entonces **rechazamos la hipótesis** diciendo que los datos no responden a una distribución uniforme, considerando un error del $1\\%$."
   ]
  }
 ],
 "metadata": {
  "kernelspec": {
   "display_name": "Python 3",
   "language": "python",
   "name": "python3"
  },
  "language_info": {
   "codemirror_mode": {
    "name": "ipython",
    "version": 3
   },
   "file_extension": ".py",
   "mimetype": "text/x-python",
   "name": "python",
   "nbconvert_exporter": "python",
   "pygments_lexer": "ipython3",
   "version": "3.8.2"
  }
 },
 "nbformat": 4,
 "nbformat_minor": 2
}
