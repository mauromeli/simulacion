{
 "cells": [
  {
   "cell_type": "code",
   "execution_count": 2,
   "metadata": {},
   "outputs": [],
   "source": [
    "import matplotlib.pyplot as plt\n",
    "import pandas as pd\n",
    "import numpy as np\n",
    "\n",
    "from math import log, sqrt, exp, pi, cos\n",
    "from scipy import stats as st\n",
    "import seaborn as sns\n",
    "sns.set(color_codes=True)\n",
    "\n",
    "sns.set_palette(sns.color_palette(\"Set2\"))\n",
    "sns.set(rc={'figure.figsize':(10,8)}, style=\"white\", color_codes=True)\n",
    "\n",
    "\n",
    "import warnings\n",
    "warnings.filterwarnings(\"ignore\")"
   ]
  },
  {
   "cell_type": "markdown",
   "metadata": {},
   "source": [
    "### Ejercicio 6\n",
    "Realizar  un  test  $Chi^{2}$ a la  distribución  empírica  implementada  en  el  Ej  2, y  analizar  el  resultado  indicando  si  la  distribución puede o no ser aceptada. \n",
    "* Considerar un nivel de significación del 1%. \n",
    "* Determine qué nivel de significación cambiaría el resultado de la prueba de hipótesis."
   ]
  },
  {
   "cell_type": "markdown",
   "metadata": {},
   "source": [
    "---\n",
    "El **Test Estadístico $Chi^{2}$** se aplica cuando tenemos una muestra de una **variable aleatoria discreta finita** y queremos evaluar si responde a una determinada distribución de probabilidad teórica.\n",
    "\n",
    "En este caso vamos a ver si la muestra que se generó en el ejercicio 6, responde a una **distribución geométrica** .\n",
    "\n",
    "Primero se debe medir la dispersión de las ocurrencias observadas $N_{i}$ respecto de las esperadas ( $np_{i}$ ):\n",
    "\n",
    "<h3 align=\"center\">$\n",
    "D^{2} = \\sum_{k=1}^{K-1}\\frac {(N_{i} - np_{i})^{2}}{np_{i}}\n",
    "$</h3> \n",
    "\n",
    "**Pearson** (1900) demostró que $D^{2}$ responde a una distribución de tipo $Chi^{2}$, por lo tanto, encontramos $\\textbf{t}$ tal que  $P(D^{2} > t) = \\alpha$  y aceptamos la hipótesis siempre que $D^{2} < t$."
   ]
  },
  {
   "cell_type": "code",
   "execution_count": 3,
   "metadata": {},
   "outputs": [
    {
     "ename": "NameError",
     "evalue": "name 'nums6' is not defined",
     "output_type": "error",
     "traceback": [
      "\u001b[0;31m---------------------------------------------------------------------------\u001b[0m",
      "\u001b[0;31mNameError\u001b[0m                                 Traceback (most recent call last)",
      "\u001b[0;32m<ipython-input-3-d32e6802c8ac>\u001b[0m in \u001b[0;36m<module>\u001b[0;34m\u001b[0m\n\u001b[1;32m      3\u001b[0m \u001b[0md2\u001b[0m \u001b[0;34m=\u001b[0m \u001b[0;36m0\u001b[0m\u001b[0;34m\u001b[0m\u001b[0;34m\u001b[0m\u001b[0m\n\u001b[1;32m      4\u001b[0m \u001b[0;34m\u001b[0m\u001b[0m\n\u001b[0;32m----> 5\u001b[0;31m \u001b[0mvalores\u001b[0m\u001b[0;34m,\u001b[0m \u001b[0mfrecuencia\u001b[0m \u001b[0;34m=\u001b[0m \u001b[0mnp\u001b[0m\u001b[0;34m.\u001b[0m\u001b[0munique\u001b[0m\u001b[0;34m(\u001b[0m\u001b[0mnums6\u001b[0m\u001b[0;34m,\u001b[0m \u001b[0mreturn_counts\u001b[0m\u001b[0;34m=\u001b[0m\u001b[0;32mTrue\u001b[0m\u001b[0;34m)\u001b[0m\u001b[0;34m\u001b[0m\u001b[0;34m\u001b[0m\u001b[0m\n\u001b[0m\u001b[1;32m      6\u001b[0m \u001b[0;34m\u001b[0m\u001b[0m\n\u001b[1;32m      7\u001b[0m \u001b[0mk\u001b[0m \u001b[0;34m=\u001b[0m \u001b[0mlen\u001b[0m\u001b[0;34m(\u001b[0m\u001b[0mvalores\u001b[0m\u001b[0;34m)\u001b[0m \u001b[0;31m#CANTIDAD DE VALORES DIFERENTES\u001b[0m\u001b[0;34m\u001b[0m\u001b[0;34m\u001b[0m\u001b[0m\n",
      "\u001b[0;31mNameError\u001b[0m: name 'nums6' is not defined"
     ]
    }
   ],
   "source": [
    "n = 10000\n",
    "\n",
    "d2 = 0\n",
    "\n",
    "valores, frecuencia = np.unique(nums2, return_counts=True) #Nums2 son los numeros obtenidos con el generador del ejercio 2\n",
    "\n",
    "k = len(valores) #CANTIDAD DE VALORES DIFERENTES \n",
    "\n",
    "def probabilidadGeometrica(x):\n",
    "    return 0.5*(0.5**(x-1))\n",
    "\n",
    "for i in range(0,k):\n",
    "    d2 += ((frecuencia[i] - n*(probabilidadGeometrica(valores[i])))**2)/(n*(probabilidadGeometrica(valores[i])))\n",
    "    \n",
    "print('Valores obtenidos: ' )\n",
    "print(valores)\n",
    "print(frecuencia)\n",
    "print('Cantidad de valores obtenidos diferentes: ' + str(k))\n",
    "print('D2 = ' + str(d2))"
   ]
  },
  {
   "cell_type": "code",
   "execution_count": null,
   "metadata": {},
   "outputs": [],
   "source": []
  }
 ],
 "metadata": {
  "kernelspec": {
   "display_name": "Python 3",
   "language": "python",
   "name": "python3"
  },
  "language_info": {
   "codemirror_mode": {
    "name": "ipython",
    "version": 3
   },
   "file_extension": ".py",
   "mimetype": "text/x-python",
   "name": "python",
   "nbconvert_exporter": "python",
   "pygments_lexer": "ipython3",
   "version": "3.7.1"
  }
 },
 "nbformat": 4,
 "nbformat_minor": 2
}
