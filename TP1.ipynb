{
 "cells": [
  {
   "cell_type": "code",
   "execution_count": 3,
   "metadata": {},
   "outputs": [],
   "source": [
    "import matplotlib.pyplot as plt\n",
    "import pandas as pd\n",
    "import numpy as np\n",
    "\n",
    "from math import log, sqrt, exp, pi, cos\n",
    "from scipy import stats as st\n",
    "import seaborn as sns\n",
    "sns.set(color_codes=True)\n",
    "\n",
    "sns.set_palette(sns.color_palette(\"Set2\"))\n",
    "sns.set(rc={'figure.figsize':(10,8)}, style=\"white\", color_codes=True)\n",
    "\n",
    "\n",
    "import warnings\n",
    "warnings.filterwarnings(\"ignore\")"
   ]
  },
  {
   "cell_type": "markdown",
   "metadata": {},
   "source": [
    "<h2 style=\"text-align: center; font-size: 30px; text-align: center; margin-bottom: 40px;\">Trabajo Práctico 1</h2>\n",
    "\n",
    "<div style=\"border: 1px solid #d2d2d2; border-top: none; border-radius: 8px; margin-bottom: 40px;\">\n",
    "    <h2 style=\"text-align: center; font-weight: bold; font-size: 20px; padding: 10px 20px; background-color: #38a2ad; color: #fff; border-radius: 4px; margin-bottom: 20px; margin-top: 0; border-bottom-left-radius: 0;  border-bottom-right-radius: 0;\">Alumnos</h2>\n",
    "    <div style=\"width: 450px; margin: 0 auto 30px;\">\n",
    "        <div style=\"overflow: hidden; border-bottom: 1px solid #d2d2d2;\">\n",
    "            <div style=\"float: left; width: 300px; padding-left: 8px;\">\n",
    "                <p style=\"font-family: 'Open Sans', sans-serif; font-size: 18px; font-weight: bold; color: #363636; line-height: 40px;\">Nombre y Apellido</p>\n",
    "            </div>\n",
    "            <div style=\"float: left; width: 150px;\">\n",
    "                <p style=\"font-family: 'Open Sans', sans-serif; font-size: 18px; font-weight: bold; color: #363636; line-height: 40px;\">Padrón</p>\n",
    "            </div>\n",
    "        </div>\n",
    "        <div style=\"overflow: hidden; border-bottom: 1px solid #d2d2d2; background-color: #f4f4f4;\">\n",
    "            <div style=\"float: left; width: 300px; padding-left: 8px;\">\n",
    "                <p style=\"font-family: 'Open Sans', sans-serif; font-size: 16px; color: #363636; line-height: 40px;\">Gaston Montes</p>\n",
    "            </div>\n",
    "            <div style=\"float: left; width: 150px;\">\n",
    "                <p style=\"font-family: 'Open Sans', sans-serif; font-size: 16px; color: #363636; line-height: 40px;\">89397</p>\n",
    "            </div>\n",
    "        </div>\n",
    "         <div style=\"overflow: hidden; border-bottom: 1px solid #d2d2d2; background-color: #f4f4f4;\">\n",
    "            <div style=\"float: left; width: 300px; padding-left: 8px;\">\n",
    "                <p style=\"font-family: 'Open Sans', sans-serif; font-size: 16px; color: #363636; line-height: 40px;\">Lucas Risaro</p>\n",
    "            </div>\n",
    "            <div style=\"float: left; width: 150px;\">\n",
    "                <p style=\"font-family: 'Open Sans', sans-serif; font-size: 16px; color: #363636; line-height: 40px;\">94335</p>\n",
    "            </div>\n",
    "        </div>\n",
    "         <div style=\"overflow: hidden; border-bottom: 1px solid #d2d2d2; background-color: #f4f4f4;\">\n",
    "            <div style=\"float: left; width: 300px; padding-left: 8px;\">\n",
    "                <p style=\"font-family: 'Open Sans', sans-serif; font-size: 16px; color: #363636; line-height: 40px;\">Alcala Santiago</p>\n",
    "            </div>\n",
    "            <div style=\"float: left; width: 150px;\">\n",
    "                <p style=\"font-family: 'Open Sans', sans-serif; font-size: 16px; color: #363636; line-height: 40px;\">95172</p>\n",
    "            </div>\n",
    "        </div>\n",
    "        <div style=\"overflow: hidden; border-bottom: 1px solid #d2d2d2; background-color: #f4f4f4;\">\n",
    "            <div style=\"float: left; width: 300px; padding-left: 8px;\">\n",
    "                <p style=\"font-family: 'Open Sans', sans-serif; font-size: 16px; color: #363636; line-height: 40px;\">Mauro Di Pietro</p>\n",
    "            </div>\n",
    "            <div style=\"float: left; width: 150px;\">\n",
    "                <p style=\"font-family: 'Open Sans', sans-serif; font-size: 16px; color: #363636; line-height: 40px;\">93695</p>\n",
    "            </div>\n",
    "        </div>\n",
    "    </div>\n",
    "</div>\n",
    "\n",
    "<h2 style=\"text-align: center; font-weight: bold; font-size: 20px; padding: 10px 20px; background-color: #db2e2e; color: #fff; border-radius: 4px; margin-bottom: 30px;\">Grupo</h2>"
   ]
  },
  {
   "cell_type": "markdown",
   "metadata": {},
   "source": [
    "### Ejercicio 1\n",
    "Utilizando  Matlab, Octaveo  Python implementar  un  Generador  Congruencial  Lineal  (GCL)  de  módulo $2^{32}$, multiplicador 1013904223,  incremento  de 1664525 y  semilla igual  a  la  parte  entera  del  promedio de  los  números de  padrón  de  los integrantes del grupo.\n",
    "* Informar los primeros 10 números al azar de la secuencia.\n",
    "* Modificar el GCL para que devuelva números al azar entre 0 y 1\n",
    "* Realizar un histograma mostrando 100.000 valores generados en el punto b.\n",
    "\n",
    "---\n",
    "\n",
    "**Método Lineal Congruente [Lehmer, 1949] **\n",
    "\n",
    "$U(n) = (Ua(n-1) + c)\\mod m, \\quad n\\geq 0$\n",
    "\n",
    "$m, \\quad \\text {el modulo};\\quad 0<m$\n",
    "\n",
    "$a,\\quad \\text{el multiplicador};\\quad 0\\geq a < m$\n",
    "\n",
    "$c, \\quad \\text{el incremento}; \\quad 0\\geq c < m$\n",
    "\n",
    "$U_{0}, \\quad \\text{la semilla, o valor inicial};\\quad 0\\leq U_{0}< m$\n",
    "\n",
    "Para generar números al azar entre 0 y 1, dividimos los valores obtenidos con el GCL por $m$"
   ]
  },
  {
   "cell_type": "code",
   "execution_count": 45,
   "metadata": {},
   "outputs": [
    {
     "name": "stdout",
     "output_type": "stream",
     "text": [
      "2356271436\n",
      "1581526337\n",
      "1615389740\n",
      "1185142369\n",
      "2500986636\n",
      "1168271233\n",
      "3037413868\n",
      "2185355425\n",
      "535991500\n",
      "3724820929\n"
     ]
    }
   ],
   "source": [
    "m = 2**32 \n",
    "a = 1013904223\n",
    "c = 1664525\n",
    "U0 = int((94335 + 89397 + 95172 + 93965)/4)\n",
    "\n",
    "numsGen = {}\n",
    "numsGen[0] = U0\n",
    "\n",
    "def U(n):\n",
    "    if (n in numsGen) :\n",
    "        return numsGen[n]\n",
    "    else:\n",
    "        numsGen[n] = (a*U(n-1) + c) % m\n",
    "        return numsGen[n]\n",
    "\n",
    "# Primeros 10 Números Aleatorios\n",
    "for i in range(1,11):\n",
    "    print(U(i))"
   ]
  },
  {
   "cell_type": "code",
   "execution_count": 5,
   "metadata": {},
   "outputs": [],
   "source": [
    "#100.000 valores random generados entre 0 y 1\n",
    "randomNums1 = list()\n",
    "for i in range(0,100000):\n",
    "    x = U(i+1)\n",
    "    randomNums1.insert(i,x/m)"
   ]
  },
  {
   "cell_type": "code",
   "execution_count": 6,
   "metadata": {},
   "outputs": [
    {
     "data": {
      "image/png": "[encoded data removed]",
      "text/plain": [
       "<Figure size 432x288 with 1 Axes>"
      ]
     },
     "metadata": {
      "needs_background": "light"
     },
     "output_type": "display_data"
    }
   ],
   "source": [
    "#Histograma de los 100 valores generados anteriormente\n",
    "plt.xlabel('Números observados')\n",
    "plt.ylabel('Cantidad de apariciones')\n",
    "plt.title('Histograma')\n",
    "\n",
    "sns.distplot(randomNums1,  kde=False,  hist_kws={'edgecolor':'black', 'alpha':1})\n",
    "sns.set(style=\"white\", context=\"talk\")"
   ]
  },
  {
   "cell_type": "code",
   "execution_count": 7,
   "metadata": {},
   "outputs": [
    {
     "data": {
      "image/png": "[encoded data removed]",
      "text/plain": [
       "<Figure size 432x288 with 1 Axes>"
      ]
     },
     "metadata": {},
     "output_type": "display_data"
    }
   ],
   "source": [
    "plt.xlabel('Números observados')\n",
    "\n",
    "sns.distplot(randomNums1,  hist_kws={'edgecolor':'black', 'alpha':1})\n",
    "sns.set(style=\"white\", context=\"talk\")"
   ]
  },
  {
   "cell_type": "markdown",
   "metadata": {},
   "source": [
    "### Ejercicio 2\n",
    "Utilizar el generador de números al azar implementado en el ejercicio 1 para simular el lanzamiento de 2 dados, luego de lo\n",
    "cual se realiza la suma de los valores obtenidos en cada uno.\n",
    "* Defina el espacio muestral del experimento\n",
    "* Genere 10000 pares de lanzamientos\n",
    "* Realice un histograma con las frecuencias obtenidas para cada uno de los valores posibles\n"
   ]
  },
  {
   "cell_type": "code",
   "execution_count": 97,
   "metadata": {},
   "outputs": [],
   "source": [
    "import random"
   ]
  },
  {
   "cell_type": "code",
   "execution_count": 107,
   "metadata": {},
   "outputs": [
    {
     "name": "stdout",
     "output_type": "stream",
     "text": [
      "Espacio Muestral Suma valores de los Dados:  [2, 3, 4, 5, 6, 7, 8, 9, 10, 11, 12]\n"
     ]
    }
   ],
   "source": [
    "print(\"Espacio Muestral Suma valores de los Dados: \", [2,3,4,5,6,7,8,9,10,11,12])"
   ]
  },
  {
   "cell_type": "code",
   "execution_count": 98,
   "metadata": {},
   "outputs": [],
   "source": [
    "def dado(numero):\n",
    "    if(numero < 1/6) : return 1\n",
    "    if(numero < 2/6) : return 2\n",
    "    if(numero < 3/6) : return 3\n",
    "    if(numero < 4/6) : return 4\n",
    "    if(numero < 5/6) : return 5\n",
    "    return 6"
   ]
  },
  {
   "cell_type": "code",
   "execution_count": 100,
   "metadata": {},
   "outputs": [],
   "source": [
    "import random\n",
    "#10.000 valores random generados entre 0 y 1\n",
    "listado_dado1 = []\n",
    "listado_dado2 = []\n",
    "for i in range(0,10000):\n",
    "    dado1 = U(random.randrange(10000))\n",
    "    dado2 = U(random.randrange(10000))\n",
    "\n",
    "    listado_dado1.insert(i,dado(dado1/m))\n",
    "    listado_dado2.insert(i,dado(dado2/m))"
   ]
  },
  {
   "cell_type": "code",
   "execution_count": 106,
   "metadata": {},
   "outputs": [
    {
     "data": {
      "image/png": "[encoded data removed]",
      "text/plain": [
       "<Figure size 432x288 with 1 Axes>"
      ]
     },
     "metadata": {},
     "output_type": "display_data"
    }
   ],
   "source": [
    "sumatoria = []\n",
    "for i in range (0,10000):\n",
    "    sumatoria.append(listado_dado1[i] + listado_dado2[i])\n",
    "    \n",
    "\n",
    "fig, ax = plt.subplots()\n",
    "sns.distplot(sumatoria,  hist_kws={'edgecolor':'black', 'alpha':1}, ax=ax)\n",
    "sns.set(style=\"white\", context=\"talk\")\n",
    "plt.xlabel('Valores observados')\n",
    "ax.set_xticks(range(2,13))\n",
    "plt.show()"
   ]
  }
 ],
 "metadata": {
  "kernelspec": {
   "display_name": "Python 3",
   "language": "python",
   "name": "python3"
  },
  "language_info": {
   "codemirror_mode": {
    "name": "ipython",
    "version": 3
   },
   "file_extension": ".py",
   "mimetype": "text/x-python",
   "name": "python",
   "nbconvert_exporter": "python",
   "pygments_lexer": "ipython3",
   "version": "3.7.1"
  }
 },
 "nbformat": 4,
 "nbformat_minor": 2
}
