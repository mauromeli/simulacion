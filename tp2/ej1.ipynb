{
 "cells": [
  {
   "cell_type": "code",
   "execution_count": 1,
   "metadata": {},
   "outputs": [],
   "source": [
    "import random\n",
    "import numpy as np"
   ]
  },
  {
   "cell_type": "code",
   "execution_count": 7,
   "metadata": {},
   "outputs": [
    {
     "name": "stdout",
     "output_type": "stream",
     "text": [
      "Tiempo medio de espera - 2 unidades de diagnostico 0.6255535900579501\n",
      "Tiempo medio de espera - 1 unidad de diagnostico 0.60727892191753\n",
      "Fracción de solicitudes que no esperaron para ser procesadas - 2 unidades de diagnostico 0.236\n",
      "Fracción de solicitudes que no esperaron para ser procesadas - 1 unidad de diagnostico 0.23951\n",
      "Tiempo medio de resolucion - 2 unidades de diagnostico 1.440938740260713\n",
      "Tiempo medio de resolucion - 1 unidad de diagnostico 1.4053186265193638\n",
      "La opcion de 2 unidades de diagnostico es 102.53466459984037 % de la opcion de 1 unidad de diagnostico\n",
      "Por lo tanto recomiendo la opcion de 1 unidad de diagnostico\n"
     ]
    }
   ],
   "source": [
    "def sampleArrive():\n",
    "  return np.random.exponential(1/4)\n",
    "\n",
    "def twoUnitsProcessTime():\n",
    "  if (np.random.rand() <= 0.6):\n",
    "    return np.random.exponential(0.7)\n",
    "  else:\n",
    "    return np.random.exponential(1)\n",
    "\n",
    "def uniqueUnitProcessTime():\n",
    "  return np.random.exponential(0.8)\n",
    "  \n",
    "def meanInstantDiagnosedSamples(waitTimes):\n",
    "  return waitTimes.count(0) / len(waitTimes)\n",
    "\n",
    "def simulateWaitTimes(processFn, times):\n",
    "  sampleArriveTime = 0\n",
    "  readyAtTime = 0\n",
    "  waits = list()\n",
    "  diagnosed = list()\n",
    "\n",
    "  for i in range(0, times):\n",
    "    sampleArriveTime += sampleArrive()\n",
    "    processTime = processFn()\n",
    "    waitTime = readyAtTime - sampleArriveTime\n",
    "\n",
    "    if (waitTime > 0):\n",
    "      waits.append(waitTime)\n",
    "      diagnosed.append(waitTime + processTime)\n",
    "    else:\n",
    "      waits.append(0)\n",
    "      diagnosed.append(processTime)\n",
    "\n",
    "    readyAtTime = sampleArriveTime + processTime\n",
    "\n",
    "  return { \"waitTimes\": waits, \"diagnosedTimes\": diagnosed }\n",
    "\n",
    "def getTimeDiffPercent(t1, t2):\n",
    "  wt1 = np.mean(t1)\n",
    "  wt2 = np.mean(t2)\n",
    "  return wt1*100/wt2\n",
    "\n",
    "twoUnitsTimes = simulateWaitTimes(twoUnitsProcessTime, 100000)\n",
    "uniqueUnitTimes = simulateWaitTimes(uniqueUnitProcessTime, 100000)\n",
    "\n",
    "print('Tiempo medio de espera - 2 unidades de diagnostico', np.mean(twoUnitsTimes[\"waitTimes\"]))\n",
    "print('Tiempo medio de espera - 1 unidad de diagnostico', np.mean(uniqueUnitTimes[\"waitTimes\"]))\n",
    "\n",
    "print('Fracción de solicitudes que no esperaron para ser procesadas - 2 unidades de diagnostico', meanInstantDiagnosedSamples(twoUnitsTimes[\"waitTimes\"]))\n",
    "print('Fracción de solicitudes que no esperaron para ser procesadas - 1 unidad de diagnostico', meanInstantDiagnosedSamples(uniqueUnitTimes[\"waitTimes\"]))\n",
    "\n",
    "print('Tiempo medio de resolucion - 2 unidades de diagnostico', np.mean(twoUnitsTimes[\"diagnosedTimes\"]))\n",
    "print('Tiempo medio de resolucion - 1 unidad de diagnostico', np.mean(uniqueUnitTimes[\"diagnosedTimes\"]))\n",
    "\n",
    "td = getTimeDiffPercent(twoUnitsTimes[\"diagnosedTimes\"], uniqueUnitTimes[\"diagnosedTimes\"])\n",
    "print('La opcion de 2 unidades de diagnostico es', td, '% de la opcion de 1 unidad de diagnostico')\n",
    "if (td >= 50):\n",
    "  print('Por lo tanto recomiendo la opcion de 1 unidad de diagnostico')\n",
    "else:\n",
    "  print('Por lo tanto recomiendo la opcion de 2 unidades de diagnostico')"
   ]
  }
 ],
 "metadata": {
  "kernelspec": {
   "display_name": "Python 3",
   "language": "python",
   "name": "python3"
  },
  "language_info": {
   "codemirror_mode": {
    "name": "ipython",
    "version": 3
   },
   "file_extension": ".py",
   "mimetype": "text/x-python",
   "name": "python",
   "nbconvert_exporter": "python",
   "pygments_lexer": "ipython3",
   "version": "3.8.3"
  }
 },
 "nbformat": 4,
 "nbformat_minor": 4
}
